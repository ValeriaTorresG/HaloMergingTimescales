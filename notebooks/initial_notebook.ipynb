{
 "cells": [
  {
   "cell_type": "code",
   "execution_count": 1,
   "metadata": {},
   "outputs": [],
   "source": [
    "import sys\n",
    "sys.path.append('/net/hypernova/data2/BOOMPJE/code/ic_generation/')\n",
    "import subprocess\n",
    "\n",
    "import numpy as np\n",
    "from astropy.cosmology import WMAP9 as cosmo\n",
    "from collections import OrderedDict\n",
    "from scipy.interpolate import griddata\n",
    "import read_tipsy\n",
    "import os\n",
    "import sphviewer\n",
    "from sphviewer.tools import QuickView, Blend\n",
    "from scipy.stats import gaussian_kde\n",
    "\n",
    "import matplotlib.pyplot as plt\n",
    "import matplotlib.tri as tri\n",
    "from matplotlib import animation, rc\n",
    "from mpl_toolkits.mplot3d import Axes3D\n",
    "import matplotlib\n",
    "plt.rcParams['figure.dpi'] = 360\n",
    "matplotlib.rcParams['animation.embed_limit'] = 2**128\n",
    "matplotlib.rcParams['text.usetex'] = True\n",
    "rc(\"animation\", html = \"jshtml\")"
   ]
  },
  {
   "cell_type": "markdown",
   "metadata": {},
   "source": [
    "## Plots"
   ]
  },
  {
   "cell_type": "markdown",
   "metadata": {},
   "source": [
    "###\n",
    "---"
   ]
  },
  {
   "cell_type": "markdown",
   "metadata": {},
   "source": [
    "#### Plots"
   ]
  },
  {
   "cell_type": "code",
   "execution_count": null,
   "metadata": {},
   "outputs": [],
   "source": [
    "h, m, x, y, z, vx, vy, vz, ids = read_tipsy.read_file('/net/hypernova/data2/BOOMPJE/merging_10_1073713/evolution_00000.1600-0')\n",
    "fig = plt.figure(figsize=(7,7))\n",
    "ax = fig.add_subplot(111, projection='3d')\n",
    "ax.set_xlabel('x')\n",
    "ax.set_ylabel('y')\n",
    "ax.set_zlabel('z')\n",
    "\n",
    "ax.scatter(x, y, z, s=1e-13, c='black')\n",
    "plt.title('merging_10_1073713/evolution_00000.1600-0')\n",
    "plt.tight_layout()\n",
    "plt.show()"
   ]
  },
  {
   "cell_type": "code",
   "execution_count": null,
   "metadata": {},
   "outputs": [],
   "source": [
    "h1, m1, x1, y1, z1, vx1, vy1, vz1, ids1 = read_tipsy.read_file('/net/hypernova/data2/BOOMPJE/merging_459_1073710/evolution_00010.8002-0')\n",
    "fig = plt.figure(figsize=(10,10))\n",
    "plt.subplots_adjust(wspace=0.3)\n",
    "\n",
    "ax = fig.add_subplot(1, 2, 1, projection='3d')\n",
    "ax.scatter(x, y, z, s=1e-13, c='black', label='initial')\n",
    "ax.set_xlabel('x')\n",
    "ax.set_ylabel('y')\n",
    "ax.set_zlabel('z')\n",
    "ax.legend()\n",
    "\n",
    "ax = fig.add_subplot(1, 2, 2, projection='3d')\n",
    "ax.scatter(x1, y1, z1, s=1e-13, c='royalblue', label='final')\n",
    "ax.set_xlabel('x')\n",
    "ax.set_ylabel('y')\n",
    "ax.set_zlabel('z')\n",
    "ax.legend()\n",
    "\n",
    "plt.show()"
   ]
  },
  {
   "cell_type": "markdown",
   "metadata": {},
   "source": [
    "###\n",
    "---"
   ]
  },
  {
   "cell_type": "markdown",
   "metadata": {},
   "source": [
    "### Read param"
   ]
  },
  {
   "cell_type": "code",
   "execution_count": null,
   "metadata": {},
   "outputs": [],
   "source": [
    "def read_parameters(sim_path):\n",
    "    log = {}\n",
    "    with open(f'/net/hypernova/data2/BOOMPJE/{sim_path}/parameters.log') as f:\n",
    "        f = f.readlines()\n",
    "        for line in f:\n",
    "            key, value = line.strip().split(':')\n",
    "            try:\n",
    "                log[key.strip()] = float(value.strip())\n",
    "            except:\n",
    "                log[key.strip()] = value.strip()\n",
    "    return log\n",
    "\n",
    "param = read_parameters('merging_429_1073710')"
   ]
  },
  {
   "cell_type": "markdown",
   "metadata": {},
   "source": [
    "###\n",
    "---"
   ]
  },
  {
   "cell_type": "markdown",
   "metadata": {},
   "source": [
    "### Animation"
   ]
  },
  {
   "cell_type": "code",
   "execution_count": null,
   "metadata": {},
   "outputs": [],
   "source": [
    "h, m, x, y, z, vx, vy, vz, ids = read_tipsy.read_file('/net/hypernova/data2/BOOMPJE/merging_10_1073713/evolution_00000.1600-0')\n",
    "\n",
    "plt.style.use('dark_background')\n",
    "fig, ax = plt.subplots(figsize=(7, 7))\n",
    "ax.set_xlabel(r'$x$')\n",
    "ax.set_ylabel(r'$y$')\n",
    "ax.set_title(f'Simulation {int(param['simulation_id'])}' + '\\n' + fr'$t$ = t ' + r'$H_{0}^{-1}$', y=1.03)\n",
    "pos = np.array([x,y,z]).T\n",
    "qv = QuickView(pos, extent=[-3,3,-3,3], r='infinity', plot=False)\n",
    "img = qv.get_image()\n",
    "ax.imshow(img, extent=qv.get_extent(), origin='lower', cmap='gist_heat')\n",
    "\n",
    "ax.set_aspect('equal')\n",
    "\n",
    "m_r = r'$M_{s}/M_{c}$ = ' + f'${round(param['mass_ratio'], 4)}$'\n",
    "c_con = r'$c_{cen}$ = ' + f'${round(param['cen_concentration'], 4)}$'\n",
    "s_con = r'$c_{sat}$ = ' + f'${round(param['sat_concentration'], 4)}$'\n",
    "cen_slope = r'$\\alpha_{cen}$ = ' + f'${round(param['cen_inner_slope'], 4)}$'\n",
    "sat_slope = r'$\\alpha_{sat}$ = ' + f'${round(param['sat_inner_slope'], 4)}$'\n",
    "per_d = r'$r_{p}$ = ' + f'${round(param['pericentre_distance'], 4)}$'\n",
    "e = r'$e$ = ' + f'${round(param['eccentricity'], 4)}$'\n",
    "ax.text(2.7, 2.7, f'{m_r}\\n{c_con}\\n{s_con}\\n{cen_slope}\\n{sat_slope}\\n{per_d}\\n{e}', ha='right', va='top')\n",
    "plt.show()"
   ]
  },
  {
   "cell_type": "markdown",
   "metadata": {},
   "source": [
    "###\n",
    "---"
   ]
  },
  {
   "cell_type": "markdown",
   "metadata": {},
   "source": [
    "### Separate halos"
   ]
  },
  {
   "cell_type": "code",
   "execution_count": null,
   "metadata": {},
   "outputs": [],
   "source": [
    "h1, m1, x1, y1, z1, vx1, vy1, vz1, ids1 = read_tipsy.read_file('/net/hypernova/data2/BOOMPJE/merging_10_1073713/evolution_00017.5503-0')\n",
    "h, m, x, y, z, vx, vy, vz, ids = read_tipsy.read_file('/net/hypernova/data2/BOOMPJE/merging_10_1073713/stacked_objects')"
   ]
  },
  {
   "cell_type": "code",
   "execution_count": null,
   "metadata": {},
   "outputs": [],
   "source": [
    "m_cen = sum(m)/(1+param['mass_ratio'])\n",
    "n_cen = int(m_cen/m[0])\n",
    "n_sat = len(m)-n_cen\n",
    "\n",
    "plt.scatter(x[:n_sat], y[:n_sat], s=1e-5, label='satellite (blue)') #!cen\n",
    "#plt.scatter(x[n_sat:], y[n_sat:], s=1e-13, label='central (yellow)') #!sat\n",
    "plt.legend()\n",
    "plt.xlim(-2.5, 2.5)\n",
    "plt.ylim(-2, 2)\n",
    "plt.show()"
   ]
  },
  {
   "cell_type": "code",
   "execution_count": null,
   "metadata": {},
   "outputs": [],
   "source": [
    "m_cen = sum(m)/(1+param['mass_ratio'])\n",
    "n_cen = int(m_cen/m[0])\n",
    "n_sat = len(m)-n_cen\n",
    "\n",
    "sat_ids = ids[:n_sat]\n",
    "sat_mask = np.isin(ids, sat_ids)\n",
    "\n",
    "halos = {\n",
    "    'cen': {\n",
    "        'pos': np.column_stack((x[~sat_mask], y[~sat_mask], z[~sat_mask])),\n",
    "        'vel': np.column_stack((vx[~sat_mask], vy[~sat_mask], vz[~sat_mask])),\n",
    "        'm': m[~sat_mask]},\n",
    "    'sat': {\n",
    "        'pos': np.column_stack((x[sat_mask], y[sat_mask], z[sat_mask])),\n",
    "        'vel': np.column_stack((vx[sat_mask], vy[sat_mask], vz[sat_mask])),\n",
    "        'm': m[sat_mask]}}"
   ]
  },
  {
   "cell_type": "code",
   "execution_count": null,
   "metadata": {},
   "outputs": [],
   "source": [
    "plt.scatter(halos['cen']['pos'][:,0], halos['cen']['pos'][:,1], s=1e-13, label='satellite (blue)') #!cen\n",
    "plt.scatter(halos['sat']['pos'][:,0], halos['sat']['pos'][:,1], s=1e-13, label='central (yellow)') #!sat\n",
    "plt.xlim(-2.5, 2.5)\n",
    "plt.ylim(-2, 2)\n",
    "plt.legend()\n",
    "plt.show()"
   ]
  },
  {
   "cell_type": "code",
   "execution_count": null,
   "metadata": {},
   "outputs": [],
   "source": [
    "def separate_ids(sim_path):\n",
    "    _, m, _, _, _, _, _, _, ids = read_tipsy.read_file(f'/net/hypernova/data2/BOOMPJE/{sim_path[:19]}/stacked_objects')\n",
    "    ids.sort()\n",
    "    cen_ids = ids[:int(1e6)]\n",
    "    return cen_ids\n",
    "\n",
    "def separate_halos(cen_ids, sim_path):\n",
    "    _, m, x, y, z, vx, vy, vz, ids = read_tipsy.read_file(f'/net/hypernova/data2/BOOMPJE/{sim_path}')\n",
    "    mask = np.isin(ids, cen_ids)\n",
    "    halos = {\n",
    "        'cen': {\n",
    "            'pos': np.column_stack((x[mask], y[mask], z[mask])),\n",
    "            'vel': np.column_stack((vx[mask], vy[mask], vz[mask])),\n",
    "            'm': m[mask]},\n",
    "        'sat': {\n",
    "            'pos': np.column_stack((x[~mask], y[~mask], z[~mask])),\n",
    "            'vel': np.column_stack((vx[~mask], vy[~mask], vz[~mask])),\n",
    "            'm': m[~mask]}}\n",
    "    return halos"
   ]
  },
  {
   "cell_type": "code",
   "execution_count": null,
   "metadata": {},
   "outputs": [],
   "source": [
    "sim_path = 'merging_0_1072098'\n",
    "params = read_parameters(sim_path)\n",
    "ids = separate_ids(sim_path)\n",
    "\n",
    "def load_data(directory):\n",
    "    files = [f for f in os.listdir(directory) if f.startswith('evolution')]\n",
    "    files.sort()\n",
    "    time = []\n",
    "    for file in files:\n",
    "        time.append(float(file[10:-2]))\n",
    "    return 15*np.array(time), files #!t=15H0\n",
    "\n",
    "time, files = load_data(f'/net/hypernova/data2/BOOMPJE/{sim_path}')"
   ]
  },
  {
   "cell_type": "code",
   "execution_count": null,
   "metadata": {},
   "outputs": [],
   "source": [
    "fig = plt.figure(figsize=(7,7))\n",
    "ax = fig.add_subplot(111)\n",
    "ax.set_xlabel('x')\n",
    "ax.set_ylabel('y')\n",
    "halos = separate_halos(ids, f'{sim_path}/evolution_00000.1600-0')\n",
    "pos_c, pos_s = halos['cen']['pos'].T, halos['sat']['pos'].T\n",
    "ax.scatter(pos_c[0], pos_c[1], s=1e-13, c='navy')\n",
    "ax.scatter(pos_s[0], pos_s[1], s=1e-13, c='red')\n",
    "plt.show()"
   ]
  },
  {
   "cell_type": "markdown",
   "metadata": {},
   "source": [
    "###\n",
    "---"
   ]
  },
  {
   "cell_type": "markdown",
   "metadata": {},
   "source": [
    "### $\\rho$"
   ]
  },
  {
   "cell_type": "code",
   "execution_count": null,
   "metadata": {},
   "outputs": [],
   "source": [
    "kde = KernelDensity(kernel='gaussian', bandwidth=0.01).fit(halos['cen']['pos'])\n",
    "kde.get_params()\n",
    "\n",
    "x = np.linspace(min(halos['cen']['pos'].T[0]), max(halos['cen']['pos'].T[0]), len(time))\n",
    "y = np.linspace(min(halos['cen']['pos'].T[1]), max(halos['cen']['pos'].T[1]), len(time))\n",
    "z = np.linspace(min(halos['cen']['pos'].T[1]), max(halos['cen']['pos'].T[1]), len(time))\n",
    "log_dens = kde.score_samples(np.array([x,y,z]).T)"
   ]
  },
  {
   "cell_type": "code",
   "execution_count": null,
   "metadata": {},
   "outputs": [],
   "source": [
    "def find_center(positions, masses, radius=0.1, max_iter=100, tol=1e-4):\n",
    "    center = np.mean(positions, axis=0)\n",
    "    for _ in range(max_iter):\n",
    "        distances = np.linalg.norm(positions - center, axis=1)\n",
    "        mask = distances < radius\n",
    "        new_center = np.sum(positions[mask].T * masses[mask], axis=1) / np.sum(masses[mask])\n",
    "        if np.linalg.norm(new_center - center) < tol:\n",
    "            break\n",
    "        center = new_center\n",
    "    return center\n",
    "\n",
    "def find_dense_center_median(positions):\n",
    "    median_center = np.median(positions, axis=0)\n",
    "    return median_center\n",
    "\n",
    "def calculate_distances(positions, center):\n",
    "    distances = np.linalg.norm(positions - center, axis=1)\n",
    "    return distances\n",
    "\n",
    "def calculate_mass_density(distances, masses, num_bins=150):\n",
    "    hist, bin_edges = np.histogram(distances, bins=num_bins, weights=masses)\n",
    "    bin_centers = 0.5 * (bin_edges[1:] + bin_edges[:-1])\n",
    "    bin_volumes = 4/3 * np.pi * (bin_edges[1:]**3 - bin_edges[:-1]**3)\n",
    "    density = hist / bin_volumes\n",
    "    return bin_centers, density\n",
    "\n",
    "def plot_mass_density(bin_centers, density, label):\n",
    "    plt.plot(bin_centers, density, label=label)\n",
    "\n",
    "sim_path = 'merging_0_1072098'\n",
    "cen_ids = separate_ids(sim_path)\n",
    "halos = separate_halos(cen_ids, sim_path+'/evolution_00030.0006-0')\n",
    "\n",
    "#dense_center_cen = find_center(halos['cen']['pos'], halos['cen']['m'])\n",
    "#dense_center_sat = find_center(halos['sat']['pos'], halos['sat']['m'])\n",
    "dense_center_cen = find_dense_center_median(halos['cen']['pos'])\n",
    "dense_center_sat = find_dense_center_median(halos['sat']['pos'])\n",
    "\n",
    "distances_cen = calculate_distances(halos['cen']['pos'], dense_center_cen)\n",
    "distances_sat = calculate_distances(halos['sat']['pos'], dense_center_sat)\n",
    "\n",
    "bin_centers_cen, density_cen = calculate_mass_density(distances_cen, halos['cen']['m'])\n",
    "bin_centers_sat, density_sat = calculate_mass_density(distances_sat, halos['sat']['m'])\n",
    "\n",
    "\n",
    "fig = plt.figure(figsize=(7, 7))\n",
    "ax = fig.add_subplot(111)\n",
    "\n",
    "ax.plot(bin_centers_cen, density_cen, label='Central')\n",
    "ax.plot(bin_centers_sat, density_sat, label='Satellite')\n",
    "#ax.axvline(x=1/params['cen_concentration'], c='red', label=r'$\\frac{1}{c_{cen}}$', ls='--')\n",
    "#ax.axvline(x=1/params['sat_concentration'], c='navy', label=r'$\\frac{1}{c_{sat}}$', ls='--')\n",
    "\n",
    "plt.xlabel(r'$\\log{r}$')\n",
    "plt.ylabel(r'$\\log{\\rho}$')\n",
    "plt.xscale('log')\n",
    "plt.yscale('log')\n",
    "plt.legend()\n",
    "plt.show()"
   ]
  },
  {
   "cell_type": "code",
   "execution_count": null,
   "metadata": {},
   "outputs": [],
   "source": [
    "fig = plt.figure(figsize=(7, 7))\n",
    "ax = fig.add_subplot(111)\n",
    "\n",
    "ax.scatter(halos['cen']['pos'].T[0], halos['cen']['pos'].T[1], s=1e-13)\n",
    "ax.scatter(halos['sat']['pos'].T[0], halos['sat']['pos'].T[1], s=1e-13)\n",
    "\n",
    "ax.scatter(dense_center_cen[0], dense_center_cen[1], s=1, c='black')\n",
    "ax.scatter(dense_center_sat[0], dense_center_sat[1], s=1, c='black')\n",
    "plt.show()"
   ]
  },
  {
   "cell_type": "code",
   "execution_count": null,
   "metadata": {},
   "outputs": [],
   "source": [
    "def find_dense_center_median(positions):\n",
    "    median_center = np.median(positions, axis=0)\n",
    "    return median_center\n",
    "\n",
    "def calculate_distances(positions, center):\n",
    "    distances = np.linalg.norm(positions - center, axis=1)\n",
    "    return distances\n",
    "\n",
    "def calculate_mass_density(distances, masses, num_bins=200):\n",
    "    hist, bin_edges = np.histogram(distances, bins=num_bins, weights=masses)\n",
    "    bin_centers = 0.5 * (bin_edges[1:] + bin_edges[:-1])\n",
    "    bin_volumes = 4/3 * np.pi * (bin_edges[1:]**3 - bin_edges[:-1]**3)\n",
    "    density = hist / bin_volumes\n",
    "    return bin_centers, density\n",
    "\n",
    "'''def calculate_mass_density(distances, masses, grid_points=100):\n",
    "    kde = gaussian_kde(distances, weights=masses, bw_method='scott')\n",
    "    grid = np.linspace(0, max(distances), grid_points)\n",
    "    density = kde(grid)\n",
    "    return grid, density'''"
   ]
  },
  {
   "cell_type": "code",
   "execution_count": null,
   "metadata": {},
   "outputs": [],
   "source": [
    "fig, (ax1, ax2) = plt.subplots(1, 2, figsize=(12, 6))\n",
    "fig.tight_layout(pad=3)\n",
    "\n",
    "sim_path = 'merging_429_1073710'\n",
    "param = read_parameters(sim_path)\n",
    "cen_ids = separate_ids(sim_path)\n",
    "time, files = load_data(f'/net/hypernova/data2/BOOMPJE/{sim_path}')\n",
    "\n",
    "orbit_cen_x, orbit_cen_y = [], []\n",
    "orbit_sat_x, orbit_sat_y = [], []\n",
    "\n",
    "orbit_c, = ax1.plot([], [], '--', lw=1, c='navy')\n",
    "orbit_s, = ax1.plot([], [], '--', lw=1, c='red')\n",
    "\n",
    "def init():\n",
    "    orbit_c.set_data([], [])\n",
    "    orbit_s.set_data([], [])\n",
    "    return ax1, ax2, orbit_c, orbit_s\n",
    "\n",
    "def update(frame):\n",
    "    ax1.cla()\n",
    "    ax2.cla()\n",
    "    \n",
    "    #*scatter for particles, ax1\n",
    "    halos = separate_halos(cen_ids, f'{sim_path}/{files[frame]}')\n",
    "    median_center_cen = find_dense_center_median(halos['cen']['pos'])\n",
    "    median_center_sat = find_dense_center_median(halos['sat']['pos'])\n",
    "    \n",
    "    orbit_cen_x.append(median_center_cen[0])\n",
    "    orbit_cen_y.append(median_center_cen[1])\n",
    "    orbit_sat_x.append(median_center_sat[0])\n",
    "    orbit_sat_y.append(median_center_sat[1])\n",
    "    \n",
    "    orbit_c.set_data(orbit_cen_x, orbit_cen_y)\n",
    "    orbit_s.set_data(orbit_sat_x, orbit_sat_y)\n",
    "    ax1.plot(orbit_cen_x, orbit_cen_y, '--', lw=1, c='navy')\n",
    "    ax1.plot(orbit_sat_x, orbit_sat_y, '--', lw=1, c='red')\n",
    "    \n",
    "    pos_c, pos_s = halos['cen']['pos'].T, halos['sat']['pos'].T\n",
    "    ax1.scatter(pos_c[0], pos_c[1], s=1e-13, c='navy')\n",
    "    ax1.scatter(pos_s[0], pos_s[1], s=1e-13, c='red')\n",
    "    ax1.set_xlabel(r'$x$')\n",
    "    ax1.set_ylabel(r'$y$')\n",
    "    ax1.set_xlim(-3, 3)\n",
    "    ax1.set_ylim(-3, 3)\n",
    "    \n",
    "    #*scatter for ax2, density\n",
    "    distances_cen = calculate_distances(halos['cen']['pos'], median_center_cen)\n",
    "    distances_sat = calculate_distances(halos['sat']['pos'], median_center_sat)\n",
    "    grid_cen, density_cen = calculate_mass_density(distances_cen, halos['cen']['m'])\n",
    "    grid_sat, density_sat = calculate_mass_density(distances_sat, halos['sat']['m'])\n",
    "    ax2.plot(grid_cen, density_cen, label='Central', c='navy')\n",
    "    ax2.plot(grid_sat, density_sat, label='Satellite', c='red')\n",
    "    ax2.set_xlabel(r'$\\log{r}$')\n",
    "    ax2.set_ylabel(r'$\\log{\\rho}$')\n",
    "    ax2.set_xscale('log')\n",
    "    ax2.set_yscale('log')\n",
    "    ax2.legend()\n",
    "    \n",
    "    return ax1, ax2, orbit_c, orbit_s\n",
    "\n",
    "ani = animation.FuncAnimation(fig, update, frames=len(files)-1, init_func=init, blit=False)\n",
    "ani.save(f'rho1_simulation_{int(param[\"simulation_id\"])}.mp4', fps=10)"
   ]
  },
  {
   "cell_type": "markdown",
   "metadata": {},
   "source": [
    "###\n",
    "---"
   ]
  },
  {
   "cell_type": "markdown",
   "metadata": {},
   "source": [
    "### Contour plot"
   ]
  },
  {
   "cell_type": "code",
   "execution_count": null,
   "metadata": {},
   "outputs": [],
   "source": [
    "x, y, z = halos['cen']['pos'][:,0], halos['cen']['pos'][:,1], halos['cen']['pos'][:,2]\n",
    "\n",
    "triang = tri.Triangulation(x,y)\n",
    "interpolator = tri.LinearTriInterpolator(triang, z)"
   ]
  },
  {
   "cell_type": "code",
   "execution_count": null,
   "metadata": {},
   "outputs": [],
   "source": [
    "xi = np.linspace(min(x), max(x), int(len(x)*0.001))\n",
    "yi = np.linspace(min(y), max(y), int(len(y)*0.001))\n",
    "\n",
    "Xi, Yi = np.meshgrid(xi, yi)\n",
    "zi = interpolator(Xi, Yi)"
   ]
  },
  {
   "cell_type": "code",
   "execution_count": null,
   "metadata": {},
   "outputs": [],
   "source": [
    "fig, ax = plt.subplots(figsize=(7, 7))\n",
    "ax.contour(xi, yi, zi, levels=15)\n",
    "ax.scatter(x, y, s=1e-13, c='black')\n",
    "plt.show()"
   ]
  },
  {
   "cell_type": "markdown",
   "metadata": {},
   "source": [
    "###\n",
    "---"
   ]
  },
  {
   "cell_type": "markdown",
   "metadata": {},
   "source": [
    "### Stream plot"
   ]
  },
  {
   "cell_type": "code",
   "execution_count": null,
   "metadata": {},
   "outputs": [],
   "source": [
    "h, m, x, y, z, vx, vy, vz, ids = read_tipsy.read_file('/net/hypernova/data2/BOOMPJE/merging_10_1073713/evolution_00000.1600-0')\n",
    "vfield, pos, vel = [], np.array([x,y,z]).T, np.array([vx,vy,vz]).T\n",
    "\n",
    "qv = QuickView(pos, r='infinity', extent=[-5,5,-5,5], plot=False, logscale=False)\n",
    "density_field = qv.get_image()\n",
    "extent = qv.get_extent()\n",
    "\n",
    "for i in range(2):\n",
    "    qv = QuickView(pos, vel[:,i], r='infinity', extent=[-3,3,-3,3], plot=False, logscale=False)\n",
    "    vfield.append(qv.get_image()/density_field)"
   ]
  },
  {
   "cell_type": "code",
   "execution_count": null,
   "metadata": {},
   "outputs": [],
   "source": [
    "fig = plt.figure(1, figsize=(7,7))\n",
    "ax = fig.add_subplot()\n",
    "\n",
    "X = np.linspace(extent[0], extent[1], 500)\n",
    "Y = np.linspace(extent[2], extent[3], 500)\n",
    "\n",
    "ax.imshow(np.log10(density_field), origin='lower', extent=extent, cmap='bone')\n",
    "v = np.log10(np.sqrt(vfield[0]**2 + vfield[1]**2))\n",
    "color =  v/np.max(v)\n",
    "\n",
    "streams = ax.streamplot(X, Y, vfield[0], vfield[1], density=1.5, color=color, cmap='gist_heat', linewidth=1.3, arrowsize=1.2)\n",
    "ax.set_xlim(extent[0], extent[1])\n",
    "ax.set_xlim(extent[2], extent[3])\n",
    "ax.set_title(f'Simulation {int(params['simulation_id'])}\\nVelocity streamplot', y=1.03)\n",
    "ax.set_xlabel(r'$x$')\n",
    "ax.set_ylabel(r'$y$')\n",
    "ax.minorticks_on()\n",
    "plt.show()"
   ]
  },
  {
   "cell_type": "markdown",
   "metadata": {},
   "source": [
    "###\n",
    "---"
   ]
  },
  {
   "cell_type": "markdown",
   "metadata": {},
   "source": [
    "### r vs t"
   ]
  },
  {
   "cell_type": "code",
   "execution_count": null,
   "metadata": {},
   "outputs": [],
   "source": [
    "cm_c = np.sum(halos['cen']['pos'].T*halos['cen']['m'], axis=1)/sum(halos['cen']['m'])\n",
    "cm_s = np.sum(halos['sat']['pos'].T*halos['sat']['m'], axis=1)/sum(halos['sat']['m'])\n",
    "\n",
    "dist = np.linalg.norm(cm_c-cm_s)\n",
    "dist"
   ]
  },
  {
   "cell_type": "code",
   "execution_count": null,
   "metadata": {},
   "outputs": [],
   "source": [
    "median_center_cen = np.median((halos['cen']['pos']), axis=0)\n",
    "median_center_sat = np.median((halos['sat']['pos']), axis=0)\n",
    "\n",
    "dist = np.linalg.norm(median_center_cen-median_center_sat)\n",
    "dist"
   ]
  },
  {
   "cell_type": "code",
   "execution_count": null,
   "metadata": {},
   "outputs": [],
   "source": [
    "rp, e = param['pericentre_distance'], param['eccentricity']\n",
    "ra = ((1+e)*rp)/(1-e)\n",
    "rp,ra"
   ]
  },
  {
   "cell_type": "code",
   "execution_count": null,
   "metadata": {},
   "outputs": [],
   "source": [
    "sim_path = 'merging_429_1073710'\n",
    "param = read_parameters(sim_path)\n",
    "cen_ids = separate_ids(sim_path)\n",
    "time, files = load_data(f'/net/hypernova/data2/BOOMPJE/{sim_path}')\n",
    "rp, e = param['pericentre_distance'], param['eccentricity']\n",
    "ra = ((1+e)*rp)/(1-e)\n",
    "\n",
    "d = []\n",
    "for f in range(len(files)):\n",
    "    halos = separate_halos(cen_ids, f'{sim_path}/{files[f]}')\n",
    "    median_center_cen = np.median((halos['cen']['pos']), axis=0)\n",
    "    median_center_sat = np.median((halos['sat']['pos']), axis=0)\n",
    "    dist = np.linalg.norm(median_center_cen-median_center_sat)\n",
    "    d.append(dist)"
   ]
  },
  {
   "cell_type": "code",
   "execution_count": null,
   "metadata": {},
   "outputs": [],
   "source": [
    "fig, ax = plt.subplots(figsize=(7, 7))\n",
    "ax.plot(time, d)\n",
    "ax.axhline(y=rp, c='red', label=r'$r_{p}$', ls='--')\n",
    "#ax.axhline(y=ra, c='navy', label=r'$r_{a}$', ls='--')\n",
    "ax.set_ylabel(r'$r$')\n",
    "ax.set_xlabel(r'$t/\\tau$')\n",
    "plt.legend(loc='center right')\n",
    "plt.show()"
   ]
  },
  {
   "cell_type": "code",
   "execution_count": null,
   "metadata": {},
   "outputs": [],
   "source": [
    "def find_dense_center_median(positions):\n",
    "    median_center = np.median(positions, axis=0)\n",
    "    return median_center\n",
    "\n",
    "def calculate_distances(positions, center):\n",
    "    distances = np.linalg.norm(positions - center, axis=1)\n",
    "    return distances\n",
    "\n",
    "def calculate_mass_density(distances, masses, num_bins=150):\n",
    "    hist, bin_edges = np.histogram(distances, bins=num_bins, weights=masses)\n",
    "    bin_centers = 0.5 * (bin_edges[1:] + bin_edges[:-1])\n",
    "    bin_volumes = 4/3 * np.pi * (bin_edges[1:]**3 - bin_edges[:-1]**3)\n",
    "    density = hist / bin_volumes\n",
    "    return bin_centers, density\n",
    "\n",
    "fig, ax = plt.subplots(figsize=(7, 7))\n",
    "fig.tight_layout(pad=3)\n",
    "\n",
    "sim_path = 'merging_429_1073710'\n",
    "param = read_parameters(sim_path)\n",
    "cen_ids = separate_ids(sim_path)\n",
    "time, files = load_data(f'/net/hypernova/data2/BOOMPJE/{sim_path}')\n",
    "rp, e = param['pericentre_distance'], param['eccentricity']\n",
    "ra = ((1+e)*rp)/(1-e)\n",
    "d = []\n",
    "\n",
    "def init():\n",
    "    return ax\n",
    "\n",
    "def update(frame):\n",
    "    ax.cla()\n",
    "    \n",
    "    halos = separate_halos(cen_ids, f'{sim_path}/{files[frame]}')\n",
    "    median_center_cen = find_dense_center_median(halos['cen']['pos'])\n",
    "    median_center_sat = find_dense_center_median(halos['sat']['pos'])\n",
    "    \n",
    "    dist = np.linalg.norm(median_center_cen-median_center_sat)\n",
    "    d.append(dist)\n",
    "    ax.plot(time[:frame+1], d, 'o-', lw=1.2, markersize=2.5, c='black')\n",
    "    #ax.axhline(y=rp, c='red', label=r'$r_{p}$', ls='--')\n",
    "    #ax.axhline(y=ra, c='navy', label=r'$r_{a}$', ls='--')\n",
    "    #ax.legend()\n",
    "    ax.set_ylabel(r'$r$')\n",
    "    ax.set_xlabel(r'$t/\\tau$')\n",
    "    ax.set_xlim(min(time), max(time))\n",
    "    #ax.set_ylim(rp-0.5, ra+0.5)\n",
    "    \n",
    "    return ax\n",
    "\n",
    "#ani = animation.FuncAnimation(fig, update, frames=len(files)-1, init_func=init, blit=False)\n",
    "#ani.save(f'r_simulation_{int(param[\"simulation_id\"])}.mp4', fps=10)"
   ]
  },
  {
   "cell_type": "markdown",
   "metadata": {},
   "source": [
    "###\n",
    "---"
   ]
  },
  {
   "cell_type": "markdown",
   "metadata": {},
   "source": [
    "## Metrics"
   ]
  },
  {
   "cell_type": "markdown",
   "metadata": {},
   "source": [
    "###\n",
    "---"
   ]
  },
  {
   "cell_type": "markdown",
   "metadata": {},
   "source": [
    "### r(t) behavior"
   ]
  },
  {
   "cell_type": "code",
   "execution_count": null,
   "metadata": {},
   "outputs": [],
   "source": [
    "def find_r(sim_path, ids, files):\n",
    "    d = np.zeros(len(files))\n",
    "    for i, f in enumerate(files):\n",
    "        halos = separate_halos(ids, f'{sim_path}/{f}')\n",
    "        median_center_cen = np.median(halos['cen']['pos'], axis=0)\n",
    "        median_center_sat = np.median(halos['sat']['pos'], axis=0)\n",
    "        d[i] = np.linalg.norm(median_center_cen - median_center_sat)\n",
    "    return d"
   ]
  },
  {
   "cell_type": "code",
   "execution_count": null,
   "metadata": {},
   "outputs": [],
   "source": [
    "sim_path = 'merging_0_1072098'\n",
    "param = read_parameters(sim_path)\n",
    "ids = separate_ids(sim_path)\n",
    "t, files = load_data(sim_path)\n",
    "r = find_r(sim_path, ids, files) #! ~3min, O(n)???"
   ]
  },
  {
   "cell_type": "code",
   "execution_count": null,
   "metadata": {},
   "outputs": [],
   "source": [
    "sim_path = 'merging_0_1072098'\n",
    "param = read_parameters(sim_path)\n",
    "ids = separate_ids(sim_path)\n",
    "t, files = load_data(sim_path)\n",
    "r = find_r(sim_path, ids, files) #! ~3min, O(n)???"
   ]
  },
  {
   "cell_type": "code",
   "execution_count": null,
   "metadata": {},
   "outputs": [],
   "source": [
    "threshold = 0.001*max(ddr) #! 0.1% of the sec deriv max value\n",
    "index = int(np.median(np.where(np.abs(ddr) < threshold)))"
   ]
  },
  {
   "cell_type": "code",
   "execution_count": null,
   "metadata": {},
   "outputs": [],
   "source": [
    "fig, ax = plt.subplots(figsize=(7, 7))\n",
    "ax.plot(t, r)\n",
    "ax.scatter(t[index], r[index], c='red')\n",
    "plt.show()"
   ]
  },
  {
   "cell_type": "markdown",
   "metadata": {},
   "source": [
    "###\n",
    "----"
   ]
  },
  {
   "cell_type": "markdown",
   "metadata": {},
   "source": [
    "### Calculating $\\vec{J}$"
   ]
  },
  {
   "cell_type": "code",
   "execution_count": null,
   "metadata": {},
   "outputs": [],
   "source": []
  }
 ],
 "metadata": {
  "kernelspec": {
   "display_name": "Python 3 (ipykernel)",
   "language": "python",
   "name": "python3"
  },
  "language_info": {
   "codemirror_mode": {
    "name": "ipython",
    "version": 3
   },
   "file_extension": ".py",
   "mimetype": "text/x-python",
   "name": "python",
   "nbconvert_exporter": "python",
   "pygments_lexer": "ipython3",
   "version": "3.12.3"
  }
 },
 "nbformat": 4,
 "nbformat_minor": 4
}
