{
 "cells": [
  {
   "cell_type": "code",
   "execution_count": null,
   "metadata": {},
   "outputs": [],
   "source": [
    "import sys\n",
    "sys.path.append('/net/hypernova/data2/BOOMPJE/code/ic_generation/')\n",
    "\n",
    "import numpy as np\n",
    "import read_tipsy\n",
    "import os\n",
    "from sphviewer.tools import QuickView\n",
    "from scipy.spatial import distance\n",
    "from scipy.ndimage import gaussian_filter1d\n",
    "from astropy.cosmology import WMAP9 as cosmo\n",
    "\n",
    "import matplotlib.pyplot as plt\n",
    "from matplotlib import animation, rc\n",
    "import matplotlib\n",
    "plt.rcParams['figure.dpi'] = 360\n",
    "matplotlib.rcParams['animation.embed_limit'] = 2**128\n",
    "matplotlib.rcParams['text.usetex'] = True\n",
    "rc(\"animation\", html = \"jshtml\")"
   ]
  },
  {
   "cell_type": "markdown",
   "metadata": {},
   "source": [
    "###\n",
    "---"
   ]
  },
  {
   "cell_type": "markdown",
   "metadata": {},
   "source": [
    "### Get initial parameters"
   ]
  },
  {
   "cell_type": "code",
   "execution_count": null,
   "metadata": {},
   "outputs": [],
   "source": [
    "def read_parameters(path):\n",
    "    log = {}\n",
    "    with open(f'/net/hypernova/data2/BOOMPJE/{path}/parameters.log') as f:\n",
    "        for line in f:\n",
    "            key, value = line.strip().split(':')\n",
    "            try:\n",
    "                log[key.strip()] = float(value.strip())\n",
    "            except ValueError:\n",
    "                log[key.strip()] = value.strip()\n",
    "    return log"
   ]
  },
  {
   "cell_type": "markdown",
   "metadata": {},
   "source": [
    "###\n",
    "---"
   ]
  },
  {
   "cell_type": "markdown",
   "metadata": {},
   "source": [
    "### Plot using QuickView"
   ]
  },
  {
   "cell_type": "code",
   "execution_count": null,
   "metadata": {},
   "outputs": [],
   "source": [
    "def plot(sim_path):\n",
    "    fig, ax = plt.subplots(figsize=(7, 7))\n",
    "    _, _, x, y, z, _, _, _, _= read_tipsy.read_file(f'/net/hypernova/data2/BOOMPJE/{sim_path}/evolution_00000.1600-0')\n",
    "    pos = np.array([x,y,z]).T\n",
    "    qv = QuickView(pos, r='infinity', plot=False, extent=[-3,3,-3,3])\n",
    "    id = int(read_parameters(sim_path)['simulation_id'])\n",
    "    ax.set_xlabel(r'$x$')\n",
    "    ax.set_ylabel(r'$y$')\n",
    "    ax.set_title(f'Simulation {id}', y=1.03)\n",
    "    ax.imshow(qv.get_image(), extent=qv.get_extent(), origin='lower', cmap='gist_heat')\n",
    "    plt.savefig(f'../plots/sph_viewer/{id}.png')\n",
    "    plt.close() #! close to optim memory\n",
    "\n",
    "#files = [f for f in os.listdir('/net/hypernova/data2/BOOMPJE/') if f.startswith('merging')]\n",
    "#for f in files:\n",
    "#    plot(f)"
   ]
  },
  {
   "cell_type": "markdown",
   "metadata": {},
   "source": [
    "###\n",
    "---"
   ]
  },
  {
   "cell_type": "markdown",
   "metadata": {},
   "source": [
    "### Plot density QV"
   ]
  },
  {
   "cell_type": "code",
   "execution_count": null,
   "metadata": {},
   "outputs": [],
   "source": [
    "def load_data(directory):\n",
    "    files = [f for f in os.listdir(directory) if f.startswith('evolution')]\n",
    "    files.sort()\n",
    "    num_files = len(files)\n",
    "    pos, time, vel, par, ids = [], np.empty(num_files), [], [], []\n",
    "    time = np.empty(num_files)\n",
    "    \n",
    "    for i, file in enumerate(files):\n",
    "        full_path = os.path.join(directory, file)\n",
    "        time[i] = float(file[10:-2])\n",
    "        h, m, x, y, z, vx, vy, vz, id = read_tipsy.read_file(full_path)\n",
    "        par.append([h, m, id])\n",
    "        vel.append([vx, vy, vz])\n",
    "        pos.append(np.column_stack((x, y, z)))\n",
    "        ids.append(id)\n",
    "    return pos, (1/15)*time*(1/cosmo.H0.value), vel, par, ids  # !t=15H0"
   ]
  },
  {
   "cell_type": "code",
   "execution_count": null,
   "metadata": {},
   "outputs": [],
   "source": [
    "path = 'merging_429_1073710'\n",
    "pos, time, _, _, _ = load_data(f'/net/hypernova/data2/BOOMPJE/{path}')\n",
    "param = read_parameters(path)\n",
    "\n",
    "m_r = r'$M_{s}/M_{c}$ = ' + f'${round(param[\"mass_ratio\"], 4)}$'\n",
    "c_con = r'$c_{cen}$ = ' + f'${round(param[\"cen_concentration\"], 4)}$'\n",
    "s_con = r'$c_{sat}$ = ' + f'${round(param[\"sat_concentration\"], 4)}$'\n",
    "cen_slope = r'$\\alpha_{cen}$ = ' + f'${round(param[\"cen_inner_slope\"], 4)}$'\n",
    "sat_slope = r'$\\alpha_{sat}$ = ' + f'${round(param[\"sat_inner_slope\"], 4)}$'\n",
    "per_d = r'$r_{p}$ = ' + f'${round(param[\"pericentre_distance\"], 4)}$'\n",
    "e = r'$e$ = ' + f'${round(param[\"eccentricity\"], 4)}$'"
   ]
  },
  {
   "cell_type": "code",
   "execution_count": null,
   "metadata": {},
   "outputs": [],
   "source": [
    "plt.style.use('dark_background')\n",
    "fig, ax = plt.subplots(figsize=(7, 7))\n",
    "\n",
    "def init():\n",
    "    return ax,\n",
    "\n",
    "def update(frame):\n",
    "    positions = pos[frame]\n",
    "    qv = QuickView(positions, extent=[-3, 3, -3, 3], r='infinity', plot=False)  # ! optimize\n",
    "    ax.cla()\n",
    "    ax.set_xlabel(r'$x$')\n",
    "    ax.set_ylabel(r'$y$')\n",
    "    ax.set_aspect('equal')\n",
    "    ax.set_title(f'Simulation {int(param[\"simulation_id\"])}' + '\\n' + fr'$t/\\tau$ = {np.around(time[frame], decimals=4)}', y=1.03)\n",
    "    img = qv.get_image()\n",
    "    ax.imshow(img, extent=qv.get_extent(), origin='lower', cmap='gist_heat')\n",
    "    ax.text(2.6, 2.6, f'{m_r}\\n{c_con}\\n{s_con}\\n{cen_slope}\\n{sat_slope}\\n{per_d}\\n{e}', ha='right', va='top')\n",
    "    return ax,\n",
    "\n",
    "ani = animation.FuncAnimation(fig, update, frames=len(pos), init_func=init, blit=False)\n",
    "ani.save(f'dens_simulation_{int(param[\"simulation_id\"])}.mp4', fps=10)"
   ]
  },
  {
   "cell_type": "markdown",
   "metadata": {},
   "source": [
    "###\n",
    "---"
   ]
  },
  {
   "cell_type": "markdown",
   "metadata": {},
   "source": [
    "### Classify particles in halos"
   ]
  },
  {
   "cell_type": "code",
   "execution_count": null,
   "metadata": {},
   "outputs": [],
   "source": [
    "def separate_ids(sim_path):\n",
    "    _, m, _, _, _, _, _, _, ids = read_tipsy.read_file(f'/net/hypernova/data2/BOOMPJE/{sim_path}/stacked_objects')\n",
    "    return np.sort(ids[:int(1e6)])\n",
    "\n",
    "def separate_halos(cen_ids, sim_path):\n",
    "    _, m, x, y, z, vx, vy, vz, ids = read_tipsy.read_file(f'/net/hypernova/data2/BOOMPJE/{sim_path}')\n",
    "    mask = np.isin(ids, cen_ids)\n",
    "    halos = {\n",
    "        'cen': {\n",
    "            'pos': np.column_stack((x[mask], y[mask], z[mask])),\n",
    "            'vel': np.column_stack((vx[mask], vy[mask], vz[mask])),\n",
    "            'm': m[mask]},\n",
    "        'sat': {\n",
    "            'pos': np.column_stack((x[~mask], y[~mask], z[~mask])),\n",
    "            'vel': np.column_stack((vx[~mask], vy[~mask], vz[~mask])),\n",
    "            'm': m[~mask]}}\n",
    "    return halos"
   ]
  },
  {
   "cell_type": "code",
   "execution_count": null,
   "metadata": {},
   "outputs": [],
   "source": [
    "def load_data(directory):\n",
    "    direc = f'/net/hypernova/data2/BOOMPJE/{directory}'\n",
    "    files = sorted(f for f in os.listdir(direc) if f.startswith('evolution'))\n",
    "    time = [(1/15) * read_tipsy.read_file(f'{direc}/{file}')[0][0] * (1 / cosmo.H0.value) for file in files]\n",
    "    return np.array(time), files"
   ]
  },
  {
   "cell_type": "code",
   "execution_count": null,
   "metadata": {},
   "outputs": [],
   "source": [
    "#fig, ax = plt.subplots(figsize=(7, 7))\n",
    "\n",
    "def init():\n",
    "    return ax,\n",
    "\n",
    "def update(frame):\n",
    "    ax.cla()\n",
    "    ax.set_xlim(-2.5, 2.5)\n",
    "    ax.set_ylim(-2, 2)\n",
    "    ax.set_xlabel(r'$x$')\n",
    "    ax.set_ylabel(r'$y$')\n",
    "    halos = separate_halos(ids, f'{sim_path}/{files[frame]}')\n",
    "    pos_c, pos_s = halos['cen']['pos'].T, halos['sat']['pos'].T\n",
    "    ax.scatter(pos_c[0], pos_c[1], s=1e-13, c='navy')\n",
    "    ax.scatter(pos_s[0], pos_s[1], s=1e-13, c='red')\n",
    "    return ax,\n",
    "\n",
    "#ani = animation.FuncAnimation(fig, update, frames=len(files), init_func=init, blit=False)\n",
    "#ani.save(f'halos_simulation_{int(params['simulation_id'])}.mp4', fps=120)"
   ]
  },
  {
   "cell_type": "markdown",
   "metadata": {},
   "source": [
    "###\n",
    "---"
   ]
  },
  {
   "cell_type": "markdown",
   "metadata": {},
   "source": [
    "### $\\rho$"
   ]
  },
  {
   "cell_type": "code",
   "execution_count": null,
   "metadata": {},
   "outputs": [],
   "source": [
    "def find_dense_center_median(positions):\n",
    "    return np.median(positions, axis=0)\n",
    "\n",
    "def calculate_distances(positions, center):\n",
    "    return np.linalg.norm(positions - center, axis=1)\n",
    "\n",
    "def calculate_mass_density(distances, masses, num_bins=100):\n",
    "    hist, bin_edges = np.histogram(distances, bins=num_bins, weights=masses)\n",
    "    bin_centers = 0.5 * (bin_edges[1:] + bin_edges[:-1])\n",
    "    bin_volumes = 4/3 * np.pi * (bin_edges[1:]**3 - bin_edges[:-1]**3)\n",
    "    return bin_centers, hist / bin_volumes"
   ]
  },
  {
   "cell_type": "code",
   "execution_count": null,
   "metadata": {},
   "outputs": [],
   "source": [
    "fig, (ax1, ax2) = plt.subplots(1, 2, figsize=(12, 6))\n",
    "fig.tight_layout(pad=3, h_pad=0.5)\n",
    "\n",
    "sim_path = 'merging_429_1073710'\n",
    "param = read_parameters(sim_path)\n",
    "cen_ids = separate_ids(sim_path)\n",
    "time, files = load_data(sim_path)\n",
    "\n",
    "orbit_c, = ax1.plot([], [], '--', lw=1, c='navy')\n",
    "orbit_s, = ax1.plot([], [], '--', lw=1, c='red')\n",
    "orbit_cen_x, orbit_cen_y = [], []\n",
    "orbit_sat_x, orbit_sat_y = [], []\n",
    "\n",
    "def init():\n",
    "    orbit_c.set_data([], [])\n",
    "    orbit_s.set_data([], [])\n",
    "    return ax1, ax2, orbit_c, orbit_s\n",
    "\n",
    "def update(frame):\n",
    "    ax1.cla()\n",
    "    ax2.cla()\n",
    "    \n",
    "    #* scatter for particles, ax1\n",
    "    halos = separate_halos(cen_ids, f'{sim_path}/{files[frame]}')\n",
    "    dense_center_cen = find_dense_center_median(halos['cen']['pos'])\n",
    "    dense_center_sat = find_dense_center_median(halos['sat']['pos'])\n",
    "    #* orbits in ax1\n",
    "    orbit_cen_x.append(dense_center_cen[0])\n",
    "    orbit_cen_y.append(dense_center_cen[1])\n",
    "    orbit_sat_x.append(dense_center_sat[0])\n",
    "    orbit_sat_y.append(dense_center_sat[1])\n",
    "    orbit_c.set_data(orbit_cen_x, orbit_cen_y)\n",
    "    orbit_s.set_data(orbit_sat_x, orbit_sat_y)\n",
    "    ax1.plot(orbit_cen_x, orbit_cen_y, '--', lw=1, c='navy')\n",
    "    ax1.plot(orbit_sat_x, orbit_sat_y, '--', lw=1, c='red')\n",
    "    #* particles in ax1\n",
    "    pos_c, pos_s = halos['cen']['pos'].T, halos['sat']['pos'].T\n",
    "    ax1.scatter(pos_c[0], pos_c[1], s=1e-13, c='navy')\n",
    "    ax1.scatter(pos_s[0], pos_s[1], s=1e-13, c='red')\n",
    "    ax1.set_xlabel(r'$x$')\n",
    "    ax1.set_ylabel(r'$y$')\n",
    "    ax1.set_xlim(-2, 2)\n",
    "    ax1.set_ylim(-2, 2)\n",
    "    \n",
    "    #* plo rho in ax2\n",
    "    distances_cen = calculate_distances(halos['cen']['pos'], dense_center_cen)\n",
    "    distances_sat = calculate_distances(halos['sat']['pos'], dense_center_sat)\n",
    "    bin_centers_cen, density_cen = calculate_mass_density(distances_cen, halos['cen']['m'])\n",
    "    bin_centers_sat, density_sat = calculate_mass_density(distances_sat, halos['sat']['m'])\n",
    "    ax2.plot(bin_centers_cen, density_cen, label='Central', c='navy')\n",
    "    ax2.plot(bin_centers_sat, density_sat, label='Satellite', c='red')\n",
    "    ax2.set_xlabel(r'$\\log{r}$')\n",
    "    ax2.set_ylabel(r'$\\log{\\rho}$')\n",
    "    ax2.set_xscale('log')\n",
    "    ax2.set_yscale('log')\n",
    "    ax2.legend()\n",
    "    \n",
    "    plt.suptitle(f'Simulation {int(param['simulation_id'])}' + '\\n' + fr'$t/\\tau$ = {np.around(time[frame], decimals=4)}', y=1.01)\n",
    "    \n",
    "    return ax1, ax2, orbit_c, orbit_s\n",
    "\n",
    "#ani = animation.FuncAnimation(fig, update, frames=len(files[:1]), init_func=init, blit=False)\n",
    "#ani.save(f'rho_simulation_{int(param[\"simulation_id\"])}.mp4', fps=10)"
   ]
  },
  {
   "cell_type": "markdown",
   "metadata": {},
   "source": [
    "###\n",
    "---"
   ]
  },
  {
   "cell_type": "markdown",
   "metadata": {},
   "source": [
    "### $r(t)$"
   ]
  },
  {
   "cell_type": "code",
   "execution_count": null,
   "metadata": {},
   "outputs": [],
   "source": [
    "sim_path = 'merging_429_1073710'\n",
    "param = read_parameters(sim_path)\n",
    "ids = separate_ids(sim_path)\n",
    "time, files = load_data(sim_path)\n",
    "\n",
    "d = np.zeros(len(files))\n",
    "for i, f in enumerate(files):\n",
    "    halos = separate_halos(ids, f'{sim_path}/{f}')\n",
    "    median_center_cen = np.median(halos['cen']['pos'], axis=0)\n",
    "    median_center_sat = np.median(halos['sat']['pos'], axis=0)\n",
    "    d[i] = np.linalg.norm(median_center_cen - median_center_sat)"
   ]
  },
  {
   "cell_type": "code",
   "execution_count": null,
   "metadata": {},
   "outputs": [],
   "source": [
    "fig, ax = plt.subplots(figsize=(7, 7))\n",
    "rp, e = param['pericentre_distance'], param['eccentricity']\n",
    "ra = ((1+e)*rp)/(1-e)\n",
    "\n",
    "ax.set_xlabel(r'$t/\\tau$')\n",
    "ax.set_ylabel(r'$r$')\n",
    "ax.set_title(f'Simulation {int(param[\"simulation_id\"])}', y=1.01)\n",
    "ax.plot(time, d, c='black', marker='.')\n",
    "#ax.axhline(y=ra, c='blue', label=r'$r_{a}$', ls='--')\n",
    "ax.axhline(y=rp, c='red', label=r'$r_{p}$', ls='--')\n",
    "ax.legend()\n",
    "plt.show()"
   ]
  },
  {
   "cell_type": "code",
   "execution_count": null,
   "metadata": {},
   "outputs": [],
   "source": [
    "fig, ax = plt.subplots(figsize=(7, 7))\n",
    "ax.set_xlabel(r'$t/\\tau$')\n",
    "ax.set_ylabel(r'$r/r_{p}$')\n",
    "ax.set_title(f'Simulation {int(param[\"simulation_id\"])}', y=1.03)\n",
    "ax.plot(time, np.array(d)/rp, c='black', marker='.')\n",
    "ax.axhline(y=1, c='red', ls='--')\n",
    "ax.set_yscale('log')\n",
    "plt.show()"
   ]
  },
  {
   "cell_type": "markdown",
   "metadata": {},
   "source": [
    "###\n",
    "---"
   ]
  }
 ],
 "metadata": {
  "kernelspec": {
   "display_name": "Python 3 (ipykernel)",
   "language": "python",
   "name": "python3"
  },
  "language_info": {
   "codemirror_mode": {
    "name": "ipython",
    "version": 3
   },
   "file_extension": ".py",
   "mimetype": "text/x-python",
   "name": "python",
   "nbconvert_exporter": "python",
   "pygments_lexer": "ipython3",
   "version": "2.7.-1"
  }
 },
 "nbformat": 4,
 "nbformat_minor": 4
}
