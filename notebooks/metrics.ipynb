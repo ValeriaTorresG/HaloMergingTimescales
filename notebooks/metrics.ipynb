{
 "cells": [
  {
   "cell_type": "code",
   "execution_count": null,
   "metadata": {},
   "outputs": [],
   "source": [
    "import sys\n",
    "sys.path.append('/net/hypernova/data2/BOOMPJE/code/ic_generation/')\n",
    "\n",
    "import numpy as np\n",
    "import read_tipsy\n",
    "import os\n",
    "from astropy.cosmology import WMAP9 as cosmo\n",
    "\n",
    "import matplotlib.pyplot as plt\n",
    "from matplotlib import animation, rc\n",
    "import matplotlib\n",
    "plt.rcParams['figure.dpi'] = 360\n",
    "matplotlib.rcParams['animation.embed_limit'] = 2**128\n",
    "matplotlib.rcParams['text.usetex'] = True\n",
    "rc(\"animation\", html = \"jshtml\")"
   ]
  },
  {
   "cell_type": "code",
   "execution_count": null,
   "metadata": {},
   "outputs": [],
   "source": [
    "def read_parameters(path):\n",
    "    log = {}\n",
    "    with open(f'/net/hypernova/data2/BOOMPJE/{path}/parameters.log') as f:\n",
    "        f = f.readlines()\n",
    "        for line in f:\n",
    "            key, value = line.strip().split(':')\n",
    "            try:\n",
    "                log[key.strip()] = float(value.strip())\n",
    "            except:\n",
    "                log[key.strip()] = value.strip()\n",
    "    return log\n",
    "\n",
    "def separate_ids(sim_path):\n",
    "    _, m, _, _, _, _, _, _, ids = read_tipsy.read_file(f'/net/hypernova/data2/BOOMPJE/{sim_path}/stacked_objects')\n",
    "    ids.sort()\n",
    "    cen_ids = ids[:int(1e6)]\n",
    "    return cen_ids\n",
    "\n",
    "def separate_halos(cen_ids, sim_path):\n",
    "    _, m, x, y, z, vx, vy, vz, ids = read_tipsy.read_file(f'/net/hypernova/data2/BOOMPJE/{sim_path}')\n",
    "    mask = np.isin(ids, cen_ids)\n",
    "    halos = {\n",
    "        'cen': {\n",
    "            'pos': np.column_stack((x[mask], y[mask], z[mask])),\n",
    "            'vel': np.column_stack((vx[mask], vy[mask], vz[mask])),\n",
    "            'm': m[mask]},\n",
    "        'sat': {\n",
    "            'pos': np.column_stack((x[~mask], y[~mask], z[~mask])),\n",
    "            'vel': np.column_stack((vx[~mask], vy[~mask], vz[~mask])),\n",
    "            'm': m[~mask]}}\n",
    "    return halos\n",
    "\n",
    "def load_data(directory):\n",
    "    direc = f'/net/hypernova/data2/BOOMPJE/{directory}'\n",
    "    files = [f for f in os.listdir(direc) if f.startswith('evolution')]\n",
    "    files.sort()\n",
    "    time = []\n",
    "    for file in files:\n",
    "        time.append(read_tipsy.read_file(f'{direc}/{file}')[0][0])\n",
    "    return (1/15)*np.array(time)*(1/cosmo.H0.value), files\n",
    "\n",
    "def find_dense_center_median(positions):\n",
    "    median_center = np.median(positions, axis=0)\n",
    "    return median_center\n",
    "\n",
    "def calculate_distances(positions, center):\n",
    "    distances = np.linalg.norm(positions - center, axis=1)\n",
    "    return distances\n",
    "\n",
    "def calculate_mass_density(distances, masses, num_bins=100):\n",
    "    hist, bin_edges = np.histogram(distances, bins=num_bins, weights=masses)\n",
    "    bin_centers = 0.5 * (bin_edges[1:] + bin_edges[:-1])\n",
    "    bin_volumes = 4/3 * np.pi * (bin_edges[1:]**3 - bin_edges[:-1]**3)\n",
    "    density = hist / bin_volumes\n",
    "    return bin_centers, density"
   ]
  },
  {
   "cell_type": "markdown",
   "metadata": {},
   "source": [
    "### \n",
    "---"
   ]
  },
  {
   "cell_type": "markdown",
   "metadata": {},
   "source": [
    "### $r(t)$ behavior"
   ]
  },
  {
   "cell_type": "code",
   "execution_count": null,
   "metadata": {},
   "outputs": [],
   "source": [
    "def find_r(sim_path, ids, files):\n",
    "    d = np.zeros(len(files))\n",
    "    for i, f in enumerate(files):\n",
    "        halos = separate_halos(ids, f'{sim_path}/{f}')\n",
    "        median_center_cen = np.median(halos['cen']['pos'], axis=0)\n",
    "        median_center_sat = np.median(halos['sat']['pos'], axis=0)\n",
    "        d[i] = np.linalg.norm(median_center_cen - median_center_sat)\n",
    "    return d"
   ]
  },
  {
   "cell_type": "code",
   "execution_count": null,
   "metadata": {},
   "outputs": [],
   "source": [
    "def find_tau_wt(path, threshold=1e-3):  #! 0.1% of the max ampl\n",
    "    param = read_parameters(path)\n",
    "    ids = separate_ids(path)\n",
    "    t, t_files = load_data(path)\n",
    "    r = find_r(path, ids, t_files)\n",
    "    dr = np.gradient(r, t)\n",
    "    ddr = np.gradient(dr, t)\n",
    "    threshold = threshold*max(ddr)\n",
    "    index = int(np.median(np.where(np.abs(ddr) < threshold)))\n",
    "    return r, t, t[index]"
   ]
  },
  {
   "cell_type": "markdown",
   "metadata": {},
   "source": [
    "#### Changing the number of part"
   ]
  },
  {
   "cell_type": "code",
   "execution_count": null,
   "metadata": {},
   "outputs": [],
   "source": [
    "def separate_halos_mod(cen_ids, sim_path, n):\n",
    "    _, m, x, y, z, vx, vy, vz, ids = read_tipsy.read_file(f'/net/hypernova/data2/BOOMPJE/{sim_path}')\n",
    "    mask = np.isin(ids, cen_ids)\n",
    "    ind = int(len(mask)*n)\n",
    "    halos = {\n",
    "        'cen': {\n",
    "            'pos': np.column_stack((x[mask], y[mask], z[mask]))[:ind],\n",
    "            'vel': np.column_stack((vx[mask], vy[mask], vz[mask]))[:ind],\n",
    "            'm': m[mask][:ind]},\n",
    "        'sat': {\n",
    "            'pos': np.column_stack((x[~mask], y[~mask], z[~mask]))[:ind],\n",
    "            'vel': np.column_stack((vx[~mask], vy[~mask], vz[~mask]))[:ind],\n",
    "            'm': m[~mask][:ind]}}\n",
    "    return halos\n",
    "\n",
    "def find_r_mod(sim_path, ids, files, n):\n",
    "    d = np.zeros(len(files))\n",
    "    for i, f in enumerate(files):\n",
    "        halos = separate_halos_mod(ids, f'{sim_path}/{f}', n)\n",
    "        median_center_cen = np.median(halos['cen']['pos'], axis=0)\n",
    "        median_center_sat = np.median(halos['sat']['pos'], axis=0)\n",
    "        d[i] = np.linalg.norm(median_center_cen - median_center_sat)\n",
    "    return d\n",
    "\n",
    "def find_tau_wt_mod(path, n):\n",
    "    param = read_parameters(path)\n",
    "    ids = separate_ids(path)\n",
    "    t, t_files = load_data(path)\n",
    "    r = find_r_mod(path, ids, t_files, n)\n",
    "    dr = np.gradient(r, t)\n",
    "    ddr = np.gradient(dr, t)\n",
    "    threshold = 1e-3*max(ddr)  #! 0.1% of the max ampl\n",
    "    try:\n",
    "        index = int(np.median(np.where(np.abs(ddr) < threshold)))\n",
    "    except:\n",
    "        index = -1\n",
    "    return r, t, t[index]"
   ]
  },
  {
   "cell_type": "code",
   "execution_count": null,
   "metadata": {},
   "outputs": [],
   "source": [
    "test = np.linspace(0,1,5)\n",
    "array = []\n",
    "for t in test:\n",
    "    r, t, idx = find_tau_wt_mod('merging_0_1072098', t)\n",
    "    array.append([r,t,idx])"
   ]
  },
  {
   "cell_type": "code",
   "execution_count": null,
   "metadata": {},
   "outputs": [],
   "source": [
    "fig, ax = plt.subplots(figsize=(7, 7))\n",
    "\n",
    "for i in range(len(test)):\n",
    "    data = array[i]\n",
    "    if test[i]!=0.0:\n",
    "        ax.plot(data[1], data[0], label=f'{test[i]}')\n",
    "\n",
    "ax.set_xlabel('$t/tau$')\n",
    "ax.set_ylabel('$r$')\n",
    "plt.title('merging_0_1072098')\n",
    "plt.legend()\n",
    "plt.show()"
   ]
  }
 ],
 "metadata": {
  "kernelspec": {
   "display_name": "Python 3",
   "language": "python",
   "name": "python3"
  },
  "language_info": {
   "codemirror_mode": {
    "name": "ipython",
    "version": 3
   },
   "file_extension": ".py",
   "mimetype": "text/x-python",
   "name": "python",
   "nbconvert_exporter": "python",
   "pygments_lexer": "ipython3",
   "version": "3.12.3"
  }
 },
 "nbformat": 4,
 "nbformat_minor": 2
}
